{
 "cells": [
  {
   "cell_type": "code",
   "execution_count": 2,
   "id": "cf29a658-b571-4ed3-8eb0-4f63d229120d",
   "metadata": {},
   "outputs": [
    {
     "name": "stdout",
     "output_type": "stream",
     "text": [
      "0\n",
      "2\n",
      "-1\n"
     ]
    }
   ],
   "source": [
    "# First Unique Character in a String\n",
    "# Given a string s, find the first non-repeating character in it and return its index. If it does not exist, return -1.\n",
    "\n",
    "# Example 1:\n",
    "# Input: s = \"leetcode\"\n",
    "# Output: 0\n",
    "\n",
    "# Example 2:\n",
    "# Input: s = \"loveleetcode\"\n",
    "# Output: 2\n",
    "\n",
    "# Example 3:\n",
    "# Input: s = \"aabb\"\n",
    "# Output: -1\n",
    "\n",
    "# Constraints:\n",
    "# a. 1 <= s.length <= 10^5\n",
    "# b. s consists of only lowercase English letters.\n",
    "\n",
    "# Ans:\n",
    "\n",
    "def firstUniqChar(s):\n",
    "    char_count = {}\n",
    "\n",
    "    # Count the frequency of each character\n",
    "    for char in s:\n",
    "        char_count[char] = char_count.get(char, 0) + 1\n",
    "\n",
    "    # Find the first non-repeating character\n",
    "    for i, char in enumerate(s):\n",
    "        if char_count[char] == 1:\n",
    "            return i\n",
    "\n",
    "    return -1\n",
    "s = \"leetcode\"\n",
    "print(firstUniqChar(s))\n",
    "\n",
    "s = \"loveleetcode\"\n",
    "print(firstUniqChar(s))\n",
    "\n",
    "s = \"aabb\"\n",
    "print(firstUniqChar(s))"
   ]
  },
  {
   "cell_type": "code",
   "execution_count": null,
   "id": "b261c3c0-9cb1-4391-b4c1-8ef657ef7318",
   "metadata": {},
   "outputs": [],
   "source": []
  }
 ],
 "metadata": {
  "kernelspec": {
   "display_name": "Python 3 (ipykernel)",
   "language": "python",
   "name": "python3"
  },
  "language_info": {
   "codemirror_mode": {
    "name": "ipython",
    "version": 3
   },
   "file_extension": ".py",
   "mimetype": "text/x-python",
   "name": "python",
   "nbconvert_exporter": "python",
   "pygments_lexer": "ipython3",
   "version": "3.10.6"
  }
 },
 "nbformat": 4,
 "nbformat_minor": 5
}
