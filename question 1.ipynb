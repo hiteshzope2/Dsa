{
 "cells": [
  {
   "cell_type": "code",
   "execution_count": 4,
   "id": "294021af-961b-4f17-a47b-a685ee32b994",
   "metadata": {},
   "outputs": [
    {
     "name": "stdout",
     "output_type": "stream",
     "text": [
      "[1, 3, 12, 0, 0]\n",
      "[0]\n"
     ]
    }
   ],
   "source": [
    "# Move Zeroes\n",
    "# Given an integer array nums, move all 0's to the end of it while maintaining the relative order of the non-zero elements.\n",
    "\n",
    "# Note that you must do this in-place without making a copy of the array.\n",
    "\n",
    "# Example 1:\n",
    "# Input: nums = [0,1,0,3,12]\n",
    "# Output: [1,3,12,0,0]\n",
    "\n",
    "# Example 2:\n",
    "# Input: nums = [0]\n",
    "# Output: [0]\n",
    "\n",
    "# Constraints:\n",
    "# a. 1 <= nums.length <= 10^4\n",
    "# b. -2^31 <= nums[i] <= 2^31 - 1\n",
    "\n",
    "# Ans:\n",
    "def moveZeroes(nums):\n",
    "    left = 0  \n",
    "    right = 0  \n",
    "\n",
    "    while right < len(nums):\n",
    "        if nums[right] != 0:\n",
    "            # Swap non-zero element to the left pointer\n",
    "            nums[left], nums[right] = nums[right], nums[left]\n",
    "            left += 1\n",
    "        right += 1\n",
    "\n",
    "num = [0, 1, 0, 3, 12]\n",
    "moveZeroes(num)\n",
    "print(num) \n",
    "\n",
    "nums = [0]\n",
    "moveZeroes(nums)\n",
    "print(nums) "
   ]
  },
  {
   "cell_type": "code",
   "execution_count": null,
   "id": "8868f798-0499-45c0-b460-a7fa78e9baba",
   "metadata": {},
   "outputs": [],
   "source": []
  }
 ],
 "metadata": {
  "kernelspec": {
   "display_name": "Python 3 (ipykernel)",
   "language": "python",
   "name": "python3"
  },
  "language_info": {
   "codemirror_mode": {
    "name": "ipython",
    "version": 3
   },
   "file_extension": ".py",
   "mimetype": "text/x-python",
   "name": "python",
   "nbconvert_exporter": "python",
   "pygments_lexer": "ipython3",
   "version": "3.10.6"
  }
 },
 "nbformat": 4,
 "nbformat_minor": 5
}
